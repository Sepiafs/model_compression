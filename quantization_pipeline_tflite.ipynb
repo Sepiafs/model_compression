{
 "cells": [
  {
   "cell_type": "code",
   "execution_count": 1,
   "id": "d571cf98-ad95-4bbd-af38-31986abf7cdb",
   "metadata": {},
   "outputs": [],
   "source": [
    "# Note: TFMOT is using Keras version 2 which is only used by default until TensorFlow version 2.15\n",
    "# The following is required to use the legacy Keras 2 package if TF version > 2.15\n",
    "# more info: https://keras.io/getting_started/#tensorflow--keras-2-backwards-compatibility\n",
    "# ! pip install tf_keras"
   ]
  },
  {
   "cell_type": "code",
   "execution_count": 2,
   "id": "1a5fa3dd",
   "metadata": {},
   "outputs": [],
   "source": [
    "#! pip install tensorflow tensorflow_datasets\n",
    "# ! pip install setuptools\n",
    "# ! pip install -U scikit-learn\n",
    "# ! pip install matplotlib\n",
    "# ! pip install -q tensorflow-model-optimization"
   ]
  },
  {
   "cell_type": "code",
   "execution_count": 3,
   "id": "fbc01d3e",
   "metadata": {},
   "outputs": [],
   "source": [
    "# Note: TFMOT is using Keras version 2 which is only used by default until TensorFlow version 2.15\n",
    "# The following is required to use the legacy Keras 2 package if TF version > 2.15\n",
    "# more info: https://keras.io/getting_started/#tensorflow--keras-2-backwards-compatibility\n",
    "# uncomment the following line if using TF version > 2.15\n",
    "# ! pip install tf_keras"
   ]
  },
  {
   "cell_type": "code",
   "execution_count": 5,
   "id": "f6fa12cf-b29b-4650-9888-1738e46b8194",
   "metadata": {
    "tags": []
   },
   "outputs": [
    {
     "name": "stdout",
     "output_type": "stream",
     "text": [
      "WARNING:tensorflow:From c:\\Users\\eafssep\\Documents\\Dev\\ml-based-pim-detection\\Python\\.venv\\lib\\site-packages\\tf_keras\\src\\losses.py:2976: The name tf.losses.sparse_softmax_cross_entropy is deprecated. Please use tf.compat.v1.losses.sparse_softmax_cross_entropy instead.\n",
      "\n",
      "tensorflow version 2.16.2\n"
     ]
    }
   ],
   "source": [
    "\n",
    "import os\n",
    "# The following line is required to use the legacy Keras 2 package if TF version > 2.15\n",
    "\n",
    "os.environ['TF_USE_LEGACY_KERAS'] = \"1\" \n",
    "import tensorflow as tf\n",
    "import tensorflow_model_optimization as tfmot\n",
    "import tensorflow_datasets as tfds\n",
    "from sklearn.metrics import confusion_matrix, ConfusionMatrixDisplay, f1_score, accuracy_score, recall_score, precision_score\n",
    "import matplotlib.pyplot as plt\n",
    "import numpy as np\n",
    "\n",
    "\n",
    "\n",
    "\n",
    "print('tensorflow version', tf.__version__)\n"
   ]
  },
  {
   "cell_type": "markdown",
   "id": "3ea435f9-530f-4711-b142-6a71081fe05b",
   "metadata": {
    "tags": []
   },
   "source": [
    "## Load the MNIST dataset "
   ]
  },
  {
   "cell_type": "code",
   "execution_count": 6,
   "id": "3de74781-f609-4101-8c10-10933a6bad75",
   "metadata": {
    "tags": []
   },
   "outputs": [],
   "source": [
    "(ds_train, ds_test), ds_info = tfds.load(\n",
    "    'mnist',\n",
    "    split=['train', 'test'],\n",
    "    shuffle_files=True,\n",
    "    as_supervised=True,\n",
    "    with_info=True,\n",
    ")"
   ]
  },
  {
   "cell_type": "markdown",
   "id": "6dcf2748",
   "metadata": {},
   "source": [
    "\n",
    "## Build a training pipeline\n",
    "\n",
    "Apply the following transformations:\n",
    "\n",
    "tf.data.Dataset.map: TFDS provide images of type tf.uint8, while the model expects tf.float32. Therefore, you need to normalize images.\n",
    "tf.data.Dataset.cache As you fit the dataset in memory, cache it before shuffling for a better performance.\n",
    "Note: Random transformations should be applied after caching.\n",
    "tf.data.Dataset.shuffle: For true randomness, set the shuffle buffer to the full dataset size.\n",
    "Note: For large datasets that can't fit in memory, use buffer_size=1000 if your system allows it.\n",
    "tf.data.Dataset.batch: Batch elements of the dataset after shuffling to get unique batches at each epoch.\n",
    "tf.data.Dataset.prefetch: It is good practice to end the pipeline by prefetching for performance."
   ]
  },
  {
   "cell_type": "code",
   "execution_count": 7,
   "id": "ba919cf0",
   "metadata": {},
   "outputs": [],
   "source": [
    "def normalize_img(image, label):\n",
    "  \"\"\"Normalizes images: `uint8` -> `float32`.\"\"\"\n",
    "  return tf.cast(image, tf.float32) / 255., label\n",
    "\n",
    "ds_train = ds_train.map(\n",
    "    normalize_img, num_parallel_calls=tf.data.AUTOTUNE)\n",
    "ds_train = ds_train.cache()\n",
    "ds_train = ds_train.shuffle(ds_info.splits['train'].num_examples)\n",
    "ds_train = ds_train.batch(128)\n",
    "ds_train = ds_train.prefetch(tf.data.AUTOTUNE)"
   ]
  },
  {
   "cell_type": "code",
   "execution_count": 8,
   "id": "a389eea7",
   "metadata": {},
   "outputs": [
    {
     "name": "stdout",
     "output_type": "stream",
     "text": [
      "tf.Tensor(2, shape=(), dtype=int64)\n",
      "tf.Tensor(0, shape=(), dtype=int64)\n",
      "tf.Tensor(4, shape=(), dtype=int64)\n",
      "tf.Tensor(8, shape=(), dtype=int64)\n",
      "tf.Tensor(7, shape=(), dtype=int64)\n"
     ]
    },
    {
     "data": {
      "image/png": "[encoded data removed]",
      "text/plain": [
       "<Figure size 640x480 with 1 Axes>"
      ]
     },
     "metadata": {},
     "output_type": "display_data"
    }
   ],
   "source": [
    "for X, y in ds_test.take(5):\n",
    "    plt.imshow(X.numpy().reshape(28, 28), cmap='gray')\n",
    "    print(y)"
   ]
  },
  {
   "cell_type": "markdown",
   "id": "90dec9ad-0b5d-406b-b1ef-7f675c5f755e",
   "metadata": {},
   "source": [
    "## Build an evaluation pipeline\n",
    "Your testing pipeline is similar to the training pipeline with small differences:\n",
    "\n",
    "You don't need to call tf.data.Dataset.shuffle.\n",
    "Caching is done after batching because batches can be the same between epochs."
   ]
  },
  {
   "cell_type": "code",
   "execution_count": 9,
   "id": "c9d89d22-0142-45f6-96b6-9f0d9b5dccea",
   "metadata": {
    "tags": []
   },
   "outputs": [],
   "source": [
    "ds_test = ds_test.map(\n",
    "    normalize_img, num_parallel_calls=tf.data.AUTOTUNE)\n",
    "ds_test = ds_test.batch(128)\n",
    "ds_test = ds_test.cache()\n",
    "ds_test = ds_test.prefetch(tf.data.AUTOTUNE)"
   ]
  },
  {
   "cell_type": "markdown",
   "id": "cdba05db-00d7-4a2a-8eb9-e4783a808518",
   "metadata": {},
   "source": [
    "## Training"
   ]
  },
  {
   "cell_type": "code",
   "execution_count": 10,
   "id": "7b08812d-fa9d-4de8-bd2c-b4573bda99ae",
   "metadata": {},
   "outputs": [
    {
     "name": "stdout",
     "output_type": "stream",
     "text": [
      "WARNING:tensorflow:From c:\\Users\\eafssep\\Documents\\Dev\\ml-based-pim-detection\\Python\\.venv\\lib\\site-packages\\tf_keras\\src\\backend.py:873: The name tf.get_default_graph is deprecated. Please use tf.compat.v1.get_default_graph instead.\n",
      "\n"
     ]
    },
    {
     "name": "stderr",
     "output_type": "stream",
     "text": [
      "WARNING:tensorflow:From c:\\Users\\eafssep\\Documents\\Dev\\ml-based-pim-detection\\Python\\.venv\\lib\\site-packages\\tf_keras\\src\\backend.py:873: The name tf.get_default_graph is deprecated. Please use tf.compat.v1.get_default_graph instead.\n",
      "\n"
     ]
    },
    {
     "name": "stdout",
     "output_type": "stream",
     "text": [
      "Model: \"sequential\"\n",
      "_________________________________________________________________\n",
      " Layer (type)                Output Shape              Param #   \n",
      "=================================================================\n",
      " flatten (Flatten)           (None, 784)               0         \n",
      "                                                                 \n",
      " dense (Dense)               (None, 128)               100480    \n",
      "                                                                 \n",
      " dense_1 (Dense)             (None, 10)                1290      \n",
      "                                                                 \n",
      "=================================================================\n",
      "Total params: 101770 (397.54 KB)\n",
      "Trainable params: 101770 (397.54 KB)\n",
      "Non-trainable params: 0 (0.00 Byte)\n",
      "_________________________________________________________________\n",
      "None\n",
      "Epoch 1/6\n",
      "WARNING:tensorflow:From c:\\Users\\eafssep\\Documents\\Dev\\ml-based-pim-detection\\Python\\.venv\\lib\\site-packages\\tensorflow\\python\\autograph\\converters\\directives.py:126: The name tf.ragged.RaggedTensorValue is deprecated. Please use tf.compat.v1.ragged.RaggedTensorValue instead.\n",
      "\n"
     ]
    },
    {
     "name": "stderr",
     "output_type": "stream",
     "text": [
      "WARNING:tensorflow:From c:\\Users\\eafssep\\Documents\\Dev\\ml-based-pim-detection\\Python\\.venv\\lib\\site-packages\\tensorflow\\python\\autograph\\converters\\directives.py:126: The name tf.ragged.RaggedTensorValue is deprecated. Please use tf.compat.v1.ragged.RaggedTensorValue instead.\n",
      "\n"
     ]
    },
    {
     "name": "stdout",
     "output_type": "stream",
     "text": [
      "469/469 [==============================] - 19s 4ms/step - loss: 0.3524 - sparse_categorical_accuracy: 0.9019 - val_loss: 0.1977 - val_sparse_categorical_accuracy: 0.9416\n",
      "Epoch 2/6\n",
      "469/469 [==============================] - 1s 2ms/step - loss: 0.1643 - sparse_categorical_accuracy: 0.9542 - val_loss: 0.1391 - val_sparse_categorical_accuracy: 0.9578\n",
      "Epoch 3/6\n",
      "469/469 [==============================] - 1s 2ms/step - loss: 0.1179 - sparse_categorical_accuracy: 0.9661 - val_loss: 0.1081 - val_sparse_categorical_accuracy: 0.9683\n",
      "Epoch 4/6\n",
      "469/469 [==============================] - 1s 2ms/step - loss: 0.0916 - sparse_categorical_accuracy: 0.9734 - val_loss: 0.0941 - val_sparse_categorical_accuracy: 0.9723\n",
      "Epoch 5/6\n",
      "469/469 [==============================] - 1s 2ms/step - loss: 0.0738 - sparse_categorical_accuracy: 0.9783 - val_loss: 0.0871 - val_sparse_categorical_accuracy: 0.9722\n",
      "Epoch 6/6\n",
      "469/469 [==============================] - 1s 2ms/step - loss: 0.0610 - sparse_categorical_accuracy: 0.9818 - val_loss: 0.0803 - val_sparse_categorical_accuracy: 0.9754\n"
     ]
    }
   ],
   "source": [
    "model = tf.keras.models.Sequential([\n",
    "  tf.keras.layers.Flatten(input_shape=(28, 28)),\n",
    "  tf.keras.layers.Dense(128, activation='relu'),\n",
    "  tf.keras.layers.Dense(10)\n",
    "])\n",
    "print(model.summary())\n",
    "optimizer = tf.keras.optimizers.legacy.Adam(0.001)\n",
    "model.compile(\n",
    "    optimizer=optimizer,\n",
    "    loss=tf.keras.losses.SparseCategoricalCrossentropy(from_logits=True),\n",
    "    metrics=[tf.keras.metrics.SparseCategoricalAccuracy()],\n",
    ")\n",
    "\n",
    "history = model.fit(\n",
    "    ds_train,\n",
    "    epochs=6,\n",
    "    validation_data=ds_test,\n",
    ")"
   ]
  },
  {
   "cell_type": "markdown",
   "id": "6a7e9135",
   "metadata": {},
   "source": [
    "## Float32 model prediction"
   ]
  },
  {
   "cell_type": "code",
   "execution_count": 11,
   "id": "80b14287",
   "metadata": {},
   "outputs": [
    {
     "name": "stdout",
     "output_type": "stream",
     "text": [
      "79/79 [==============================] - 0s 1ms/step\n"
     ]
    }
   ],
   "source": [
    "predictions = model.predict(ds_test)\n",
    "predicted_classes = tf.argmax(predictions, axis=1)"
   ]
  },
  {
   "cell_type": "code",
   "execution_count": 12,
   "id": "31024ffa",
   "metadata": {},
   "outputs": [],
   "source": [
    "# extract true labels from test set\n",
    "true_label = tf.concat([y for x, y in ds_test], axis=0)"
   ]
  },
  {
   "cell_type": "code",
   "execution_count": 13,
   "id": "a0791bf7",
   "metadata": {},
   "outputs": [
    {
     "name": "stdout",
     "output_type": "stream",
     "text": [
      "Accuracy is: 97.54\n"
     ]
    }
   ],
   "source": [
    "print('Accuracy is:' , round(accuracy_score(true_label, predicted_classes)*100, 2))"
   ]
  },
  {
   "cell_type": "markdown",
   "id": "eb24bd74",
   "metadata": {},
   "source": [
    "## Float32 model evaluation"
   ]
  },
  {
   "cell_type": "code",
   "execution_count": 14,
   "id": "6eff8c5e",
   "metadata": {},
   "outputs": [
    {
     "name": "stdout",
     "output_type": "stream",
     "text": [
      "Accuracy is: 97.54\n",
      "F1 score is: 97.54\n",
      "Recall score is: 97.54\n",
      "Precision score is: 97.54\n"
     ]
    }
   ],
   "source": [
    "print('Accuracy is:' , round(accuracy_score(true_label, predicted_classes)*100, 2))\n",
    "print('F1 score is:' , round(f1_score(true_label, predicted_classes, average = 'weighted')*100, 2))\n",
    "print('Recall score is:' , round(recall_score(true_label, predicted_classes, average = 'weighted')*100, 2))\n",
    "print('Precision score is:' , round(precision_score(true_label, predicted_classes, average = 'weighted')*100, 2))\n"
   ]
  },
  {
   "cell_type": "markdown",
   "id": "46d2e88b-3363-405f-8798-5b742357a0d8",
   "metadata": {},
   "source": [
    "## Plot loss and accuracy"
   ]
  },
  {
   "cell_type": "code",
   "execution_count": 15,
   "id": "972adc45-79ac-4660-9f4c-9ee05e24e7fd",
   "metadata": {
    "tags": []
   },
   "outputs": [
    {
     "data": {
      "text/plain": [
       "Text(0.5, 1.0, 'Training and validation loss')"
      ]
     },
     "execution_count": 15,
     "metadata": {},
     "output_type": "execute_result"
    },
    {
     "data": {
      "image/png": "[encoded data removed]",
      "text/plain": [
       "<Figure size 640x480 with 1 Axes>"
      ]
     },
     "metadata": {},
     "output_type": "display_data"
    },
    {
     "data": {
      "image/png": "[encoded data removed]",
      "text/plain": [
       "<Figure size 640x480 with 1 Axes>"
      ]
     },
     "metadata": {},
     "output_type": "display_data"
    }
   ],
   "source": [
    "# PLOT LOSS AND ACCURACY\n",
    "\n",
    "#-----------------------------------------------------------\n",
    "# Retrieve a list of list results on training and test data\n",
    "# sets for each training epoch\n",
    "#-----------------------------------------------------------\n",
    "acc=history.history['sparse_categorical_accuracy']\n",
    "val_acc=history.history['val_sparse_categorical_accuracy']\n",
    "loss=history.history['loss']\n",
    "val_loss=history.history['val_loss']\n",
    "\n",
    "epochs = range(len(acc)) # Get number of epochs\n",
    "\n",
    "#------------------------------------------------\n",
    "# Plot training and validation accuracy per epoch\n",
    "#------------------------------------------------\n",
    "plt.plot(epochs, acc, 'r', label=\"Training Accuracy\")\n",
    "plt.plot(epochs, val_acc, 'b', label=\"Validation Accuracy\")\n",
    "plt.legend()\n",
    "plt.title('Training and validation accuracy')\n",
    "\n",
    "\n",
    "\n",
    "#------------------------------------------------\n",
    "# Plot training and validation loss per epoch\n",
    "#------------------------------------------------\n",
    "plt.figure()\n",
    "plt.plot(epochs, loss, 'r', label=\"Training Loss\")\n",
    "plt.plot(epochs, val_loss, 'b', label=\"Validation Loss\")\n",
    "plt.legend()\n",
    "\n",
    "plt.title('Training and validation loss')\n"
   ]
  },
  {
   "cell_type": "markdown",
   "id": "a1d1ce94",
   "metadata": {},
   "source": [
    "## Save the TF model\n",
    "In case that you lose the model, save and load"
   ]
  },
  {
   "cell_type": "code",
   "execution_count": 16,
   "id": "470ad9bc",
   "metadata": {},
   "outputs": [
    {
     "name": "stderr",
     "output_type": "stream",
     "text": [
      "C:\\Users\\eafssep\\AppData\\Local\\Temp\\ipykernel_47232\\3891454289.py:2: UserWarning: You are saving your model as an HDF5 file via `model.save()`. This file format is considered legacy. We recommend using instead the native TF-Keras format, e.g. `model.save('my_model.keras')`.\n",
      "  tf.keras.models.save_model(model, 'tf_mnist_model.h5')\n"
     ]
    }
   ],
   "source": [
    "# save model\n",
    "tf.keras.models.save_model(model, 'tf_mnist_model.h5')"
   ]
  },
  {
   "cell_type": "markdown",
   "id": "d92ff5e4",
   "metadata": {},
   "source": [
    "## Load the TF model "
   ]
  },
  {
   "cell_type": "code",
   "execution_count": 17,
   "id": "c5e1ba60",
   "metadata": {},
   "outputs": [],
   "source": [
    "# load the tf model\n",
    "\n",
    "model = tf.keras.models.load_model('tf_mnist_model.h5')"
   ]
  },
  {
   "cell_type": "markdown",
   "id": "d8df9487",
   "metadata": {},
   "source": [
    "## Quantization Aware Training"
   ]
  },
  {
   "cell_type": "code",
   "execution_count": 18,
   "id": "c94801c4",
   "metadata": {},
   "outputs": [],
   "source": [
    "# ! pip install -q tensorflow-model-optimization"
   ]
  },
  {
   "cell_type": "code",
   "execution_count": 19,
   "id": "349cb6bd",
   "metadata": {},
   "outputs": [
    {
     "name": "stdout",
     "output_type": "stream",
     "text": [
      "Model: \"sequential\"\n",
      "_________________________________________________________________\n",
      " Layer (type)                Output Shape              Param #   \n",
      "=================================================================\n",
      " quantize_layer (QuantizeLa  (None, 28, 28)            3         \n",
      " yer)                                                            \n",
      "                                                                 \n",
      " quant_flatten (QuantizeWra  (None, 784)               1         \n",
      " pperV2)                                                         \n",
      "                                                                 \n",
      " quant_dense (QuantizeWrapp  (None, 128)               100485    \n",
      " erV2)                                                           \n",
      "                                                                 \n",
      " quant_dense_1 (QuantizeWra  (None, 10)                1295      \n",
      " pperV2)                                                         \n",
      "                                                                 \n",
      "=================================================================\n",
      "Total params: 101784 (397.59 KB)\n",
      "Trainable params: 101770 (397.54 KB)\n",
      "Non-trainable params: 14 (56.00 Byte)\n",
      "_________________________________________________________________\n"
     ]
    }
   ],
   "source": [
    "\n",
    "\n",
    "quantize_model = tfmot.quantization.keras.quantize_model\n",
    "\n",
    "# q_aware stands for for quantization aware.\n",
    "q_aware_model = quantize_model(model)\n",
    "\n",
    "#`quantize_model` requires a recompile.\n",
    "q_aware_model.compile(optimizer=optimizer, \n",
    "                      loss=tf.keras.losses.SparseCategoricalCrossentropy(from_logits=True), \n",
    "                      metrics=[tf.keras.metrics.SparseCategoricalAccuracy()])\n",
    "    \n",
    "\n",
    "q_aware_model.summary()"
   ]
  },
  {
   "cell_type": "markdown",
   "id": "24b0e484",
   "metadata": {},
   "source": [
    "## Training QAT Model"
   ]
  },
  {
   "cell_type": "code",
   "execution_count": 20,
   "id": "60984dcb",
   "metadata": {},
   "outputs": [
    {
     "name": "stdout",
     "output_type": "stream",
     "text": [
      "Epoch 1/6\n"
     ]
    },
    {
     "name": "stdout",
     "output_type": "stream",
     "text": [
      "469/469 [==============================] - 3s 4ms/step - loss: 0.0739 - sparse_categorical_accuracy: 0.9770 - val_loss: 0.0912 - val_sparse_categorical_accuracy: 0.9712\n",
      "Epoch 2/6\n",
      "469/469 [==============================] - 1s 3ms/step - loss: 0.0404 - sparse_categorical_accuracy: 0.9878 - val_loss: 0.0725 - val_sparse_categorical_accuracy: 0.9773\n",
      "Epoch 3/6\n",
      "469/469 [==============================] - 1s 3ms/step - loss: 0.0308 - sparse_categorical_accuracy: 0.9915 - val_loss: 0.0714 - val_sparse_categorical_accuracy: 0.9792\n",
      "Epoch 4/6\n",
      "469/469 [==============================] - 1s 3ms/step - loss: 0.0241 - sparse_categorical_accuracy: 0.9934 - val_loss: 0.0680 - val_sparse_categorical_accuracy: 0.9797\n",
      "Epoch 5/6\n",
      "469/469 [==============================] - 1s 3ms/step - loss: 0.0197 - sparse_categorical_accuracy: 0.9951 - val_loss: 0.0694 - val_sparse_categorical_accuracy: 0.9803\n",
      "Epoch 6/6\n",
      "469/469 [==============================] - 1s 3ms/step - loss: 0.0163 - sparse_categorical_accuracy: 0.9964 - val_loss: 0.0712 - val_sparse_categorical_accuracy: 0.9791\n"
     ]
    }
   ],
   "source": [
    "# early stopping callback\n",
    "early_stopping = tf.keras.callbacks.EarlyStopping(patience=10, restore_best_weights=True)\n",
    "\n",
    "history_q_aware = q_aware_model.fit(\n",
    "                                    ds_train,\n",
    "                                    epochs=6,\n",
    "                                    validation_data=ds_test,\n",
    "                                    )\n",
    "                           "
   ]
  },
  {
   "cell_type": "markdown",
   "id": "828d9bbf",
   "metadata": {},
   "source": [
    "## TFLite Conversion"
   ]
  },
  {
   "cell_type": "code",
   "execution_count": null,
   "id": "a0eeb649",
   "metadata": {},
   "outputs": [
    {
     "name": "stdout",
     "output_type": "stream",
     "text": [
      "INFO:tensorflow:Assets written to: saved_model/quant_aware\\assets\n"
     ]
    },
    {
     "name": "stderr",
     "output_type": "stream",
     "text": [
      "INFO:tensorflow:Assets written to: saved_model/quant_aware\\assets\n"
     ]
    }
   ],
   "source": [
    "# choose the type of conversion\n",
    "\n",
    "# no quantization\n",
    "no_quant = False\n",
    "# full quantization\n",
    "full_quant = False\n",
    "# Dynamic Range Quantization\n",
    "DRQ = False\n",
    "# float16 quantization\n",
    "float16_quant = False\n",
    "# 16x4 quantization\n",
    "quant_16x8 = False\n",
    "# quantization aware training\n",
    "quant_aware = True\n",
    "\n",
    "\n",
    "if no_quant:\n",
    "  export_dir = 'saved_model/no_quant'\n",
    "  model = model\n",
    "  tflite_model_file = 'model.tflite'\n",
    "  input_type = 'float32'\n",
    "elif DRQ:\n",
    "  export_dir = 'saved_model/DRQ'\n",
    "  model = model\n",
    "  tflite_model_file = 'model_DRQ.tflite'\n",
    "  input_type = 'float32'\n",
    "elif float16_quant:\n",
    "  export_dir = 'saved_model/float16_quant'\n",
    "  model = model\n",
    "  tflite_model_file = 'model_float16_quant.tflite'\n",
    "  input_type = 'float32'\n",
    "elif full_quant:\n",
    "  export_dir = 'saved_model/full_quant'\n",
    "  model = model\n",
    "  tflite_model_file = 'model_full_quant.tflite'\n",
    "  input_type = 'int8'\n",
    "elif quant_16x8:\n",
    "  export_dir = 'saved_model/quant_16x8'\n",
    "  model = model\n",
    "  tflite_model_file = 'model_quant_16x8.tflite'\n",
    "  input_type = 'int16'\n",
    "elif quant_aware:\n",
    "  export_dir = 'saved_model/quant_aware'\n",
    "  model = q_aware_model\n",
    "  tflite_model_file = 'model_quant_aware.tflite'\n",
    "  input_type = 'int8'\n",
    "\n",
    "\n",
    "def representative_data():\n",
    "  for image_batch, labels_batch in ds_test.take(1):\n",
    "    yield [image_batch]\n",
    "\n",
    "tf.saved_model.save(model, export_dir)\n",
    "\n",
    "# Convert the model\n",
    "converter = tf.lite.TFLiteConverter.from_saved_model(export_dir) # path to the SavedModel directory\n",
    "\n",
    "# Add optimization (Dynamic range quantization)\n",
    "if DRQ: converter.optimizations = [tf.lite.Optimize.DEFAULT]\n",
    "\n",
    "if float16_quant:\n",
    "   converter.optimizations = [tf.lite.Optimize.DEFAULT]\n",
    "   converter.target_spec.supported_types = [tf.float16]\n",
    "   \n",
    "  \n",
    "if full_quant:\n",
    "  # Full integer quantization for all ops including the input and output\n",
    "  converter.optimizations = [tf.lite.Optimize.DEFAULT]\n",
    "  converter.representative_dataset = representative_data\n",
    "  converter.target_spec.supported_ops = [tf.lite.OpsSet.TFLITE_BUILTINS_INT8]\n",
    "  converter.inference_input_type = tf.int8  \n",
    "  converter.inference_output_type = tf.int8 \n",
    "\n",
    "\n",
    "if quant_16x8:\n",
    "  # 16x8 quantization\n",
    "  converter.optimizations = [tf.lite.Optimize.DEFAULT]\n",
    "  converter.target_spec.supported_ops = [tf.lite.OpsSet.EXPERIMENTAL_TFLITE_BUILTINS_ACTIVATIONS_INT16_WEIGHTS_INT8]\n",
    "  converter.representative_dataset = representative_data\n",
    "  converter.inference_input_type = tf.int16  \n",
    "  converter.inference_output_type = tf.int16 \n",
    "\n",
    "if quant_aware:\n",
    "  # quantization aware training\n",
    "  converter.optimizations = [tf.lite.Optimize.DEFAULT]\n",
    "  converter.representative_dataset = representative_data\n",
    "  converter.inference_input_type = tf.int8  \n",
    "  converter.inference_output_type = tf.int8 \n",
    "\n",
    "tflite_model = converter.convert()\n",
    "\n",
    "# Save the model.\n",
    "with open(tflite_model_file, 'wb') as f:\n",
    "  f.write(tflite_model)\n",
    "\n",
    "\n",
    "# print(help(tf.lite.TFLiteConverter))\n"
   ]
  },
  {
   "cell_type": "markdown",
   "id": "51682357",
   "metadata": {},
   "source": [
    "## TFLite Interpreter"
   ]
  },
  {
   "cell_type": "code",
   "execution_count": 22,
   "id": "91c45c68",
   "metadata": {},
   "outputs": [
    {
     "name": "stdout",
     "output_type": "stream",
     "text": [
      "<class 'numpy.int8'>\n",
      "<class 'numpy.int8'>\n"
     ]
    }
   ],
   "source": [
    "\n",
    "interpreter = tf.lite.Interpreter(model_path=tflite_model_file)\n",
    "interpreter.allocate_tensors()  # Needed before execution!\n",
    "\n",
    "output_details = interpreter.get_output_details()[0]  # Model has single output.\n",
    "input_details = interpreter.get_input_details()[0]  # Model has single input.\n",
    "print(input_details.get('dtype'))\n",
    "print(output_details.get('dtype'))\n"
   ]
  },
  {
   "cell_type": "code",
   "execution_count": 23,
   "id": "b056ca07",
   "metadata": {},
   "outputs": [
    {
     "data": {
      "text/plain": [
       "{'name': 'serving_default_flatten_input:0',\n",
       " 'index': 0,\n",
       " 'shape': array([ 1, 28, 28]),\n",
       " 'shape_signature': array([-1, 28, 28]),\n",
       " 'dtype': numpy.int8,\n",
       " 'quantization': (0.003921568859368563, -128),\n",
       " 'quantization_parameters': {'scales': array([0.00392157], dtype=float32),\n",
       "  'zero_points': array([-128]),\n",
       "  'quantized_dimension': 0},\n",
       " 'sparsity_parameters': {}}"
      ]
     },
     "execution_count": 23,
     "metadata": {},
     "output_type": "execute_result"
    }
   ],
   "source": [
    "input_details"
   ]
  },
  {
   "cell_type": "markdown",
   "id": "cfcb23f6",
   "metadata": {},
   "source": [
    "## TFLite Prediction"
   ]
  },
  {
   "cell_type": "code",
   "execution_count": null,
   "id": "c97f86e0",
   "metadata": {},
   "outputs": [
    {
     "name": "stdout",
     "output_type": "stream",
     "text": [
      "[[-35   6  99  26  -3 -30  -6 -10  22 -37]]\n",
      "2.0\n",
      "[[ 108 -128  -26  -68 -128   -4   42  -23  -11  -32]]\n",
      "0.0\n",
      "[[-58 -42  -5  -6  98 -30 -22   9  -5  41]]\n",
      "4.0\n",
      "[[ 15  26   8  15 -12  29  15 -11  75   3]]\n",
      "8.0\n",
      "[[-12 -22   4  29 -14 -15 -71  94  -5  21]]\n",
      "7.0\n",
      "[[ -4 -39  15 -11  -5  43  95 -91  19 -10]]\n",
      "6.0\n",
      "[[110 -98 -37 -43 -79 -19  -2   1 -32 -19]]\n",
      "0.0\n",
      "[[ -6  -5  -8   5   8  37  79 -68  50 -22]]\n",
      "6.0\n",
      "[[-97   5 -24  96 -90  44 -74 -71  17 -27]]\n",
      "3.0\n",
      "[[-16  75  16  -1  -4   1  -5   3  19 -28]]\n",
      "1.0\n",
      "[[-26 -31  15   0  13  40  29 -14  73 -19]]\n",
      "8.0\n",
      "[[ 103 -128   35  -22  -47  -45   -3  -42  -18   12]]\n",
      "0.0\n",
      "[[   5  -24   12   32 -104   -9  -98   89  -36   20]]\n",
      "7.0\n",
      "[[-50 -58 -37  15  15 -48 -97  15  38  70]]\n",
      "9.0\n",
      "[[-13 -18  18  12 -39 -10  -9 -22  98  10]]\n",
      "8.0\n",
      "[[  -9 -107  -12   -5   85  -25    4  -26   25    5]]\n",
      "4.0\n",
      "[[  7 -24  -9  27   1  98   2 -49  18   8]]\n",
      "5.0\n",
      "[[ -2   1 -10  77 -41  22 -43 -51  -7   0]]\n",
      "3.0\n",
      "[[ -51   20  -27   12   66  -15 -105   -4    5   40]]\n",
      "4.0\n",
      "[[ 79 -41  21 -23 -43  -1  -9  -6  42  16]]\n",
      "0.0\n",
      "[[ 9  7  8 12 28 15 78  4 16 -1]]\n",
      "6.0\n",
      "[[-6  9 10  6 24 20 89 13 30 12]]\n",
      "6.0\n",
      "[[ -34   21   15   86  -81   32 -108   -9  -24   -9]]\n",
      "3.0\n",
      "[[ 81 -50   5  -6 -73  19  36 -11   7  12]]\n",
      "0.0\n",
      "[[-21  30 109  36 -73 -12 -52 -83  16 -36]]\n",
      "2.0\n",
      "[[ -57  -11  -43  116  -94   32 -128 -110   21   15]]\n",
      "3.0\n",
      "[[ -5  15  -2  10  18  41  65 -41  32 -33]]\n",
      "6.0\n",
      "[[ -4 -17   3   5  16  26  95 -87  16 -23]]\n",
      "6.0\n",
      "[[  1 -10  36  -1   5  -7 -28  71  15   4]]\n",
      "7.0\n",
      "[[ 13   2   2 -14  86   3  -5  31  -5  22]]\n",
      "4.0\n",
      "[[ 25 -55  -3   5  -8   3  -6  10  13  34]]\n",
      "9.0\n",
      "[[ -75  -39  -26  117  -96   25 -128  -57    3   -1]]\n",
      "3.0\n",
      "[[-31  -2  41  18 -49 -28 -22 -40  68 -18]]\n",
      "8.0\n",
      "[[-17  40  29  30  24  21  13  41  28  14]]\n",
      "7.0\n",
      "[[-69 -56 -42   8 -74  90 -13 -63   6  22]]\n",
      "5.0\n",
      "[[-39 -62  -2 -12  77 -38  -5   2  44   9]]\n",
      "4.0\n",
      "[[-34  -3  64  33 -34 -21 -45   0  15 -23]]\n",
      "2.0\n",
      "[[-27 -25  13  20  -2  91   1 -33  44 -21]]\n",
      "5.0\n",
      "[[ 8 10 17 39 15 75 19  3 29 32]]\n",
      "5.0\n",
      "[[-47  27  16  43  -6  24 -36 -52  77 -41]]\n",
      "8.0\n",
      "[[-44 -39 -30  21 -80 100 -42 -34   0  15]]\n",
      "5.0\n",
      "[[-71  40  85  48 -32 -22 -48  14  23  -7]]\n",
      "2.0\n",
      "[[  0  -6   7  42  40  -1 -34  10  11  58]]\n",
      "9.0\n",
      "[[ 20 -23  89   4 -17 -28  14 -17  -3 -31]]\n",
      "2.0\n",
      "[[-15 -57 -15  -6  73 -27 -12  25  40  43]]\n",
      "4.0\n",
      "[[-50  19 121  39 -50   4 -49 -47  30 -61]]\n",
      "2.0\n",
      "[[-44  -3  12  41 -17 -30 -65  60 -13   2]]\n",
      "7.0\n",
      "[[ 104 -128  -27  -55  -26  -44    5    9  -47  -12]]\n",
      "0.0\n",
      "[[-69 -44 -33  29 -71  98 -80 -20  22   7]]\n",
      "5.0\n",
      "[[-16  91  19 -10   0 -16 -15   2  21 -31]]\n",
      "1.0\n",
      "[[ 82 -77   5 -48 -53 -10 -13   9 -20   3]]\n",
      "0.0\n",
      "[[ -6  19   7  27 -62 -25 -71  94 -19  10]]\n",
      "7.0\n",
      "[[-16 -14   4  -3  25  -4 -23   6  13  60]]\n",
      "9.0\n",
      "[[ 12 -17  32   6  32 -18   7  24  17  68]]\n",
      "9.0\n",
      "[[ -2 -59   6   5  28 -27 -26  -1  15  84]]\n",
      "9.0\n",
      "[[-30 -34 -12  -4  25   6 110 -48   6 -24]]\n",
      "6.0\n",
      "[[-27 -36 -28  24 -35  75 -29 -20  12  21]]\n",
      "5.0\n",
      "[[-37  -8  14  25  -7  11  10 -54  92 -20]]\n",
      "8.0\n",
      "[[ -5 -68  45   6  -9 -24 -28 -38 109  -2]]\n",
      "8.0\n",
      "[[ 14 -50 -13 -26  10  34 109 -41  28 -20]]\n",
      "6.0\n",
      "[[-31 -44 -19  39  -2  24 -24   4   5  63]]\n",
      "9.0\n",
      "[[  40 -103    7   -2    7  -46  -14    6    8   66]]\n",
      "9.0\n",
      "[[-51 -26 -32  24  -6 101 -59   4  13  -2]]\n",
      "5.0\n",
      "[[-37 -19 -12 -14  86  -5 -29  23 -13  16]]\n",
      "4.0\n",
      "[[-42  28  96  51 -19 -25 -46  32  22 -58]]\n",
      "2.0\n",
      "[[  4 -62 -29 -31  15  30 120 -38  11 -26]]\n",
      "6.0\n",
      "[[ 32 -47   4   0 -21 -12 -27 -77  87  27]]\n",
      "8.0\n",
      "[[-30  78  19  37  12  -3  -9  18  33  -4]]\n",
      "1.0\n",
      "[[  86 -114  -26  -19   20  -34    8   15  -65   34]]\n",
      "0.0\n",
      "[[-21  -3  28  -1  16  28 106 -44  10 -46]]\n",
      "6.0\n",
      "[[  7 -25   5  19  18  32 -40   7   5  74]]\n",
      "9.0\n",
      "[[  1 -15  -6  36 -32  84   3   2  21  21]]\n",
      "5.0\n",
      "[[ -49   -8  -50    8  -71   89   22 -100    9    5]]\n",
      "5.0\n",
      "[[-29 -23 -24 -41  97 -23 -10  11 -16  27]]\n",
      "4.0\n",
      "[[-24  84   3   1  21 -13  -1  12  17  -6]]\n",
      "1.0\n",
      "[[-28  22  32   9  18  18  92 -67  15 -54]]\n",
      "6.0\n",
      "[[-36 -18  28  40 -30 -34 -76  73  11 -30]]\n",
      "7.0\n",
      "[[-16 -35 -38  14 -33  80  23 -48  17  29]]\n",
      "5.0\n",
      "[[-36 -13  80  12  36   7 -13  35 -27 -69]]\n",
      "2.0\n",
      "[[-60  10 -20   6  41 -11 -50   5  -1  62]]\n",
      "9.0\n",
      "[[ 71 -95   6 -32  -9 -51  20 -16 -37  -8]]\n",
      "0.0\n",
      "[[ 43 -40   2 -21  33  11 113 -36  16 -31]]\n",
      "6.0\n",
      "[[-67 -82   4 -13  89 -29 -19   6 -17 -10]]\n",
      "4.0\n",
      "[[-48 -16 -16 -13  89 -18 -22  22  16  33]]\n",
      "4.0\n",
      "[[ -9 -14  69  11 -93 -20 -61  37  27   9]]\n",
      "2.0\n",
      "[[-28 -11  -4  14   9  14  -6 -11  62  15]]\n",
      "8.0\n",
      "[[-11  -5  24  32  -2 -22 -35  87   2   7]]\n",
      "7.0\n",
      "[[-12  11  30  17 -46   0 -24 -37  90 -18]]\n",
      "8.0\n",
      "[[-48 -15 -33  78 -39  29 -87 -41 -11  16]]\n",
      "3.0\n",
      "[[107 -68   1 -33 -64 -45   8   1 -39   7]]\n",
      "0.0\n",
      "[[-68 -78 -34   2  40 -33 -45  -4   6  94]]\n",
      "9.0\n",
      "[[ 84 -40  19  -8 -42   9  33  -1  12 -12]]\n",
      "0.0\n",
      "[[-60  71   6  10  21 -10 -20   1  30  -8]]\n",
      "1.0\n",
      "[[-45  83  -1  19  18  -9 -13  17  18  -3]]\n",
      "1.0\n",
      "[[ 18 -26  -4  17  -5  29 -74  24   0  72]]\n",
      "9.0\n",
      "[[-16  -3   2 -25  84 -23 -14  13  -3  38]]\n",
      "4.0\n",
      "[[ -7  -3 -10  48  15  79   1 -34  18   1]]\n",
      "5.0\n",
      "[[ -3 -57 -14   0  42 -12 -12  23  -3  71]]\n",
      "9.0\n",
      "[[-28  57  28  29  -1  -2 -22  47  24  13]]\n",
      "1.0\n",
      "[[-13  -8  29 -22  21  31  90 -40  14 -17]]\n",
      "6.0\n",
      "[[-19 -19  -6   0  -4  49  86 -52  36 -36]]\n",
      "6.0\n",
      "[[  92 -112  -18  -52  -65  -46    6  -17  -54   17]]\n",
      "0.0\n",
      "[[ -8 -38   9  17 -60  10 -72  92 -30  38]]\n",
      "7.0\n",
      "[[ -30  -38  -23  -18   -3  -16 -103   44   50   26]]\n",
      "8.0\n",
      "[[-46 -27  24  47 -30 -15 -48  -6  59   7]]\n",
      "8.0\n",
      "[[29 14 22  4 77 -6 14 18  7 -9]]\n",
      "4.0\n",
      "[[-33  -3  38  21 -62  -4 -61   0  92 -26]]\n",
      "8.0\n",
      "[[-48  -2  25  51 -52  56 -49  21  63   1]]\n",
      "8.0\n",
      "[[-14  69  17  22  28  12  13  25  40   3]]\n",
      "1.0\n",
      "[[-33 -47   9  23   1  17 -16 -41  82  -2]]\n",
      "8.0\n",
      "[[ 87 -74  19 -12 -61   2  -6  -5  34  -4]]\n",
      "0.0\n",
      "[[-11  20 104  41 -78 -41 -55 -37  40 -11]]\n",
      "2.0\n",
      "[[-21  15   9   8  20 -36 -71  25  36  62]]\n",
      "9.0\n",
      "[[-18  69   2  -5  12  -7  22  -2  32 -34]]\n",
      "1.0\n",
      "[[ 76 -73 -20  -7 -64   7 -19 -17 -19  22]]\n",
      "0.0\n",
      "[[-55   0  13  65 -16  -5 -66 -22   5   9]]\n",
      "3.0\n",
      "[[-42 -41 -19  26   5   1 -69   0  -6  69]]\n",
      "9.0\n",
      "[[ -7 -22  -4  15 -13  10 -64  84  -9  25]]\n",
      "7.0\n",
      "[[ 94 -79  -6 -34 -68 -49   6   4 -49  13]]\n",
      "0.0\n",
      "[[ -1 -57 -13 -36  90 -53  -6  32 -29  50]]\n",
      "4.0\n",
      "[[ -1 -13   5  10  27 -11 -42   1   0  63]]\n",
      "9.0\n",
      "[[  30  -50   16  -18  -18   -1   91 -114   20  -25]]\n",
      "6.0\n",
      "[[-35 -43  -2  15 -36 -12 -26  -1  48   9]]\n",
      "8.0\n",
      "[[-35 -25  -2  33  10  14 -18   6  23  71]]\n",
      "9.0\n",
      "[[-102  -47  -64  122  -77    5 -128   -9   13  -31]]\n",
      "3.0\n",
      "[[ 12  11 -10  12 -15  54  35 -15  32   7]]\n",
      "5.0\n",
      "[[ -6   2  -4 -22  65  -9  31  -4 -18  13]]\n",
      "4.0\n",
      "[[ -34   -1  -22   79  -79    5 -113  -36    8   -6]]\n",
      "3.0\n"
     ]
    },
    {
     "name": "stderr",
     "output_type": "stream",
     "text": [
      "C:\\Users\\eafssep\\AppData\\Local\\Temp\\ipykernel_47232\\3780281043.py:20: DeprecationWarning: Conversion of an array with ndim > 0 to a scalar is deprecated, and will error in future. Ensure you extract a single element from your array before performing this operation. (Deprecated NumPy 1.25.)\n",
      "  y_pred[i] = np.argmax(prediction, axis = 1)\n"
     ]
    }
   ],
   "source": [
    "pred_list = []\n",
    "# np.zeros(ds_test.shape)\n",
    "for X_test, y_test in ds_test.take(1):\n",
    "    y_pred = np.zeros(y_test.shape)\n",
    "    for i in range (len(X_test)):\n",
    "        X_test_input = np.reshape(X_test[i], (1, 28, 28))\n",
    "        # Check if the input type is quantized, then rescale input data to int\n",
    "        if input_details['dtype'] == np.int8 or input_details['dtype'] == np.int16:\n",
    "            input_scale, input_zero_point = input_details[\"quantization\"]\n",
    "            X_test_input = X_test_input / input_scale + input_zero_point\n",
    "            X_test_input = np.array(X_test_input, dtype=input_details[\"dtype\"])\n",
    "            \n",
    "\n",
    "            interpreter.set_tensor(input_details['index'], X_test_input)\n",
    "            interpreter.invoke()\n",
    "            prediction = interpreter.get_tensor(output_details['index'])\n",
    "            # keeping all predictions in a list\n",
    "            pred_list.append(prediction)\n",
    "            y_pred[i] = np.argmax(prediction, axis = 1)        "
   ]
  },
  {
   "cell_type": "markdown",
   "id": "a3bd7d0c",
   "metadata": {},
   "source": [
    "## TFLite Evaluation"
   ]
  },
  {
   "cell_type": "code",
   "execution_count": 31,
   "id": "8d27bc3e",
   "metadata": {},
   "outputs": [
    {
     "name": "stdout",
     "output_type": "stream",
     "text": [
      "Accuracy is: 98.44\n",
      "F1 score is: 98.18\n",
      "Recall score is: 98.33\n",
      "Precision score is: 98.26\n"
     ]
    }
   ],
   "source": [
    "print('Accuracy is:' , round(accuracy_score(y_test, y_pred)*100, 2))\n",
    "print('F1 score is:' , round(f1_score(y_test, y_pred, average = 'macro')*100, 2))\n",
    "print('Recall score is:' , round(recall_score(y_test, y_pred, average = 'macro')*100, 2))\n",
    "print('Precision score is:' , round(precision_score(y_test, y_pred, average = 'macro')*100, 2))"
   ]
  },
  {
   "cell_type": "code",
   "execution_count": null,
   "id": "6a35142c",
   "metadata": {},
   "outputs": [],
   "source": []
  }
 ],
 "metadata": {
  "kernelspec": {
   "display_name": ".venv",
   "language": "python",
   "name": "python3"
  },
  "language_info": {
   "codemirror_mode": {
    "name": "ipython",
    "version": 3
   },
   "file_extension": ".py",
   "mimetype": "text/x-python",
   "name": "python",
   "nbconvert_exporter": "python",
   "pygments_lexer": "ipython3",
   "version": "3.10.11"
  }
 },
 "nbformat": 4,
 "nbformat_minor": 5
}
