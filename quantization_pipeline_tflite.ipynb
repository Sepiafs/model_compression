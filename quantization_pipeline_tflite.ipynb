{
 "cells": [
  {
   "cell_type": "code",
   "execution_count": 1,
   "id": "d571cf98-ad95-4bbd-af38-31986abf7cdb",
   "metadata": {},
   "outputs": [],
   "source": [
    "# Note: TFMOT is using Keras version 2 which is only used by default until TensorFlow version 2.15\n",
    "# The following is required to use the legacy Keras 2 package if TF version > 2.15\n",
    "# more info: https://keras.io/getting_started/#tensorflow--keras-2-backwards-compatibility\n",
    "# ! pip install tf_keras"
   ]
  },
  {
   "cell_type": "code",
   "execution_count": 2,
   "id": "1a5fa3dd",
   "metadata": {},
   "outputs": [],
   "source": [
    "#! pip install tensorflow tensorflow_datasets\n",
    "# ! pip install setuptools\n",
    "# ! pip install -U scikit-learn\n",
    "# ! pip install matplotlib\n",
    "# ! pip install -q tensorflow-model-optimization"
   ]
  },
  {
   "cell_type": "code",
   "execution_count": 3,
   "id": "fbc01d3e",
   "metadata": {},
   "outputs": [],
   "source": [
    "# Note: TFMOT is using Keras version 2 which is only used by default until TensorFlow version 2.15\n",
    "# The following is required to use the legacy Keras 2 package if TF version > 2.15\n",
    "# more info: https://keras.io/getting_started/#tensorflow--keras-2-backwards-compatibility\n",
    "# uncomment the following line if using TF version > 2.15\n",
    "# ! pip install tf_keras"
   ]
  },
  {
   "cell_type": "code",
   "execution_count": null,
   "id": "f6fa12cf-b29b-4650-9888-1738e46b8194",
   "metadata": {
    "tags": []
   },
   "outputs": [
    {
     "name": "stdout",
     "output_type": "stream",
     "text": [
      "WARNING:tensorflow:From c:\\Users\\eafssep\\Documents\\Dev\\pipelines\\.venv\\Lib\\site-packages\\tf_keras\\src\\losses.py:2976: The name tf.losses.sparse_softmax_cross_entropy is deprecated. Please use tf.compat.v1.losses.sparse_softmax_cross_entropy instead.\n",
      "\n",
      "tensorflow version 2.18.0\n"
     ]
    }
   ],
   "source": [
    "\n",
    "import os\n",
    "# The following line is required to use the legacy Keras 2 package if TF version > 2.15\n",
    "\n",
    "os.environ['TF_USE_LEGACY_KERAS'] = \"1\" \n",
    "import tensorflow as tf\n",
    "import tensorflow_model_optimization as tfmot\n",
    "import tensorflow_datasets as tfds\n",
    "from sklearn.metrics import confusion_matrix, ConfusionMatrixDisplay, f1_score, accuracy_score, recall_score, precision_score\n",
    "import matplotlib.pyplot as plt\n",
    "import numpy as np\n",
    "\n",
    "\n",
    "\n",
    "\n",
    "print('tensorflow version', tf.__version__)\n"
   ]
  },
  {
   "cell_type": "markdown",
   "id": "3ea435f9-530f-4711-b142-6a71081fe05b",
   "metadata": {
    "tags": []
   },
   "source": [
    "## Load the MNIST dataset "
   ]
  },
  {
   "cell_type": "code",
   "execution_count": 5,
   "id": "3de74781-f609-4101-8c10-10933a6bad75",
   "metadata": {
    "tags": []
   },
   "outputs": [],
   "source": [
    "(ds_train, ds_test), ds_info = tfds.load(\n",
    "    'mnist',\n",
    "    split=['train', 'test'],\n",
    "    shuffle_files=True,\n",
    "    as_supervised=True,\n",
    "    with_info=True,\n",
    ")"
   ]
  },
  {
   "cell_type": "markdown",
   "id": "6dcf2748",
   "metadata": {},
   "source": [
    "\n",
    "## Build a training pipeline\n",
    "\n",
    "Apply the following transformations:\n",
    "\n",
    "tf.data.Dataset.map: TFDS provide images of type tf.uint8, while the model expects tf.float32. Therefore, you need to normalize images.\n",
    "tf.data.Dataset.cache As you fit the dataset in memory, cache it before shuffling for a better performance.\n",
    "Note: Random transformations should be applied after caching.\n",
    "tf.data.Dataset.shuffle: For true randomness, set the shuffle buffer to the full dataset size.\n",
    "Note: For large datasets that can't fit in memory, use buffer_size=1000 if your system allows it.\n",
    "tf.data.Dataset.batch: Batch elements of the dataset after shuffling to get unique batches at each epoch.\n",
    "tf.data.Dataset.prefetch: It is good practice to end the pipeline by prefetching for performance."
   ]
  },
  {
   "cell_type": "code",
   "execution_count": 6,
   "id": "ba919cf0",
   "metadata": {},
   "outputs": [],
   "source": [
    "def normalize_img(image, label):\n",
    "  \"\"\"Normalizes images: `uint8` -> `float32`.\"\"\"\n",
    "  return tf.cast(image, tf.float32) / 255., label\n",
    "\n",
    "ds_train = ds_train.map(\n",
    "    normalize_img, num_parallel_calls=tf.data.AUTOTUNE)\n",
    "ds_train = ds_train.cache()\n",
    "ds_train = ds_train.shuffle(ds_info.splits['train'].num_examples)\n",
    "ds_train = ds_train.batch(128)\n",
    "ds_train = ds_train.prefetch(tf.data.AUTOTUNE)"
   ]
  },
  {
   "cell_type": "code",
   "execution_count": 7,
   "id": "a389eea7",
   "metadata": {},
   "outputs": [
    {
     "name": "stdout",
     "output_type": "stream",
     "text": [
      "tf.Tensor(2, shape=(), dtype=int64)\n",
      "tf.Tensor(0, shape=(), dtype=int64)\n",
      "tf.Tensor(4, shape=(), dtype=int64)\n",
      "tf.Tensor(8, shape=(), dtype=int64)\n",
      "tf.Tensor(7, shape=(), dtype=int64)\n"
     ]
    },
    {
     "data": {
      "image/png": "[encoded data removed]",
      "text/plain": [
       "<Figure size 640x480 with 1 Axes>"
      ]
     },
     "metadata": {},
     "output_type": "display_data"
    }
   ],
   "source": [
    "for X, y in ds_test.take(5):\n",
    "    plt.imshow(X.numpy().reshape(28, 28), cmap='gray')\n",
    "    print(y)"
   ]
  },
  {
   "cell_type": "markdown",
   "id": "90dec9ad-0b5d-406b-b1ef-7f675c5f755e",
   "metadata": {},
   "source": [
    "## Build an evaluation pipeline\n",
    "Your testing pipeline is similar to the training pipeline with small differences:\n",
    "\n",
    "You don't need to call tf.data.Dataset.shuffle.\n",
    "Caching is done after batching because batches can be the same between epochs."
   ]
  },
  {
   "cell_type": "code",
   "execution_count": 8,
   "id": "c9d89d22-0142-45f6-96b6-9f0d9b5dccea",
   "metadata": {
    "tags": []
   },
   "outputs": [],
   "source": [
    "ds_test = ds_test.map(\n",
    "    normalize_img, num_parallel_calls=tf.data.AUTOTUNE)\n",
    "ds_test = ds_test.batch(128)\n",
    "ds_test = ds_test.cache()\n",
    "ds_test = ds_test.prefetch(tf.data.AUTOTUNE)"
   ]
  },
  {
   "cell_type": "markdown",
   "id": "cdba05db-00d7-4a2a-8eb9-e4783a808518",
   "metadata": {},
   "source": [
    "## Training"
   ]
  },
  {
   "cell_type": "code",
   "execution_count": 23,
   "id": "7b08812d-fa9d-4de8-bd2c-b4573bda99ae",
   "metadata": {},
   "outputs": [
    {
     "name": "stdout",
     "output_type": "stream",
     "text": [
      "Model: \"sequential_1\"\n",
      "_________________________________________________________________\n",
      " Layer (type)                Output Shape              Param #   \n",
      "=================================================================\n",
      " flatten_1 (Flatten)         (None, 784)               0         \n",
      "                                                                 \n"
     ]
    },
    {
     "name": "stdout",
     "output_type": "stream",
     "text": [
      " dense_2 (Dense)             (None, 128)               100480    \n",
      "                                                                 \n",
      " dense_3 (Dense)             (None, 10)                1290      \n",
      "                                                                 \n",
      "=================================================================\n",
      "Total params: 101770 (397.54 KB)\n",
      "Trainable params: 101770 (397.54 KB)\n",
      "Non-trainable params: 0 (0.00 Byte)\n",
      "_________________________________________________________________\n",
      "None\n",
      "Epoch 1/6\n",
      "469/469 [==============================] - 1s 2ms/step - loss: 0.3613 - sparse_categorical_accuracy: 0.9012 - val_loss: 0.1916 - val_sparse_categorical_accuracy: 0.9442\n",
      "Epoch 2/6\n",
      "469/469 [==============================] - 1s 2ms/step - loss: 0.1648 - sparse_categorical_accuracy: 0.9532 - val_loss: 0.1330 - val_sparse_categorical_accuracy: 0.9600\n",
      "Epoch 3/6\n",
      "469/469 [==============================] - 1s 2ms/step - loss: 0.1178 - sparse_categorical_accuracy: 0.9665 - val_loss: 0.1157 - val_sparse_categorical_accuracy: 0.9656\n",
      "Epoch 4/6\n",
      "469/469 [==============================] - 1s 2ms/step - loss: 0.0919 - sparse_categorical_accuracy: 0.9736 - val_loss: 0.0928 - val_sparse_categorical_accuracy: 0.9718\n",
      "Epoch 5/6\n",
      "469/469 [==============================] - 1s 2ms/step - loss: 0.0737 - sparse_categorical_accuracy: 0.9787 - val_loss: 0.0874 - val_sparse_categorical_accuracy: 0.9740\n",
      "Epoch 6/6\n",
      "469/469 [==============================] - 1s 2ms/step - loss: 0.0608 - sparse_categorical_accuracy: 0.9827 - val_loss: 0.0787 - val_sparse_categorical_accuracy: 0.9763\n"
     ]
    }
   ],
   "source": [
    "model = tf.keras.models.Sequential([\n",
    "  tf.keras.layers.Flatten(input_shape=(28, 28)),\n",
    "  tf.keras.layers.Dense(128, activation='relu'),\n",
    "  tf.keras.layers.Dense(10)\n",
    "])\n",
    "print(model.summary())\n",
    "optimizer = tf.keras.optimizers.legacy.Adam(0.001)\n",
    "model.compile(\n",
    "    optimizer=optimizer,\n",
    "    loss=tf.keras.losses.SparseCategoricalCrossentropy(from_logits=True),\n",
    "    metrics=[tf.keras.metrics.SparseCategoricalAccuracy()],\n",
    ")\n",
    "\n",
    "history = model.fit(\n",
    "    ds_train,\n",
    "    epochs=6,\n",
    "    validation_data=ds_test,\n",
    ")"
   ]
  },
  {
   "cell_type": "markdown",
   "id": "6a7e9135",
   "metadata": {},
   "source": [
    "## Float32 model prediction"
   ]
  },
  {
   "cell_type": "code",
   "execution_count": 24,
   "id": "80b14287",
   "metadata": {},
   "outputs": [
    {
     "name": "stdout",
     "output_type": "stream",
     "text": [
      " 1/79 [..............................] - ETA: 3s"
     ]
    },
    {
     "name": "stdout",
     "output_type": "stream",
     "text": [
      "79/79 [==============================] - 0s 2ms/step\n"
     ]
    }
   ],
   "source": [
    "predictions = model.predict(ds_test)\n",
    "predicted_classes = tf.argmax(predictions, axis=1)"
   ]
  },
  {
   "cell_type": "code",
   "execution_count": 25,
   "id": "31024ffa",
   "metadata": {},
   "outputs": [],
   "source": [
    "# extract true labels from test set\n",
    "true_label = tf.concat([y for x, y in ds_test], axis=0)"
   ]
  },
  {
   "cell_type": "code",
   "execution_count": 26,
   "id": "a0791bf7",
   "metadata": {},
   "outputs": [
    {
     "name": "stdout",
     "output_type": "stream",
     "text": [
      "Accuracy is: 97.63\n"
     ]
    }
   ],
   "source": [
    "print('Accuracy is:' , round(accuracy_score(true_label, predicted_classes)*100, 2))"
   ]
  },
  {
   "cell_type": "markdown",
   "id": "eb24bd74",
   "metadata": {},
   "source": [
    "## Float32 model evaluation"
   ]
  },
  {
   "cell_type": "code",
   "execution_count": 27,
   "id": "6eff8c5e",
   "metadata": {},
   "outputs": [
    {
     "name": "stdout",
     "output_type": "stream",
     "text": [
      "Accuracy is: 97.63\n",
      "F1 score is: 97.63\n",
      "Recall score is: 97.63\n",
      "Precision score is: 97.63\n"
     ]
    }
   ],
   "source": [
    "print('Accuracy is:' , round(accuracy_score(true_label, predicted_classes)*100, 2))\n",
    "print('F1 score is:' , round(f1_score(true_label, predicted_classes, average = 'weighted')*100, 2))\n",
    "print('Recall score is:' , round(recall_score(true_label, predicted_classes, average = 'weighted')*100, 2))\n",
    "print('Precision score is:' , round(precision_score(true_label, predicted_classes, average = 'weighted')*100, 2))\n"
   ]
  },
  {
   "cell_type": "markdown",
   "id": "46d2e88b-3363-405f-8798-5b742357a0d8",
   "metadata": {},
   "source": [
    "## Plot loss and accuracy"
   ]
  },
  {
   "cell_type": "code",
   "execution_count": 14,
   "id": "972adc45-79ac-4660-9f4c-9ee05e24e7fd",
   "metadata": {
    "tags": []
   },
   "outputs": [
    {
     "data": {
      "text/plain": [
       "Text(0.5, 1.0, 'Training and validation loss')"
      ]
     },
     "execution_count": 14,
     "metadata": {},
     "output_type": "execute_result"
    },
    {
     "data": {
      "image/png": "[encoded data removed]",
      "text/plain": [
       "<Figure size 640x480 with 1 Axes>"
      ]
     },
     "metadata": {},
     "output_type": "display_data"
    },
    {
     "data": {
      "image/png": "[encoded data removed]",
      "text/plain": [
       "<Figure size 640x480 with 1 Axes>"
      ]
     },
     "metadata": {},
     "output_type": "display_data"
    }
   ],
   "source": [
    "# PLOT LOSS AND ACCURACY\n",
    "\n",
    "#-----------------------------------------------------------\n",
    "# Retrieve a list of list results on training and test data\n",
    "# sets for each training epoch\n",
    "#-----------------------------------------------------------\n",
    "acc=history.history['sparse_categorical_accuracy']\n",
    "val_acc=history.history['val_sparse_categorical_accuracy']\n",
    "loss=history.history['loss']\n",
    "val_loss=history.history['val_loss']\n",
    "\n",
    "epochs = range(len(acc)) # Get number of epochs\n",
    "\n",
    "#------------------------------------------------\n",
    "# Plot training and validation accuracy per epoch\n",
    "#------------------------------------------------\n",
    "plt.plot(epochs, acc, 'r', label=\"Training Accuracy\")\n",
    "plt.plot(epochs, val_acc, 'b', label=\"Validation Accuracy\")\n",
    "plt.legend()\n",
    "plt.title('Training and validation accuracy')\n",
    "\n",
    "\n",
    "\n",
    "#------------------------------------------------\n",
    "# Plot training and validation loss per epoch\n",
    "#------------------------------------------------\n",
    "plt.figure()\n",
    "plt.plot(epochs, loss, 'r', label=\"Training Loss\")\n",
    "plt.plot(epochs, val_loss, 'b', label=\"Validation Loss\")\n",
    "plt.legend()\n",
    "\n",
    "plt.title('Training and validation loss')\n"
   ]
  },
  {
   "cell_type": "markdown",
   "id": "a1d1ce94",
   "metadata": {},
   "source": [
    "## Save the TF model\n",
    "In case that you lose the model, save and load"
   ]
  },
  {
   "cell_type": "code",
   "execution_count": 28,
   "id": "470ad9bc",
   "metadata": {},
   "outputs": [
    {
     "name": "stderr",
     "output_type": "stream",
     "text": [
      "C:\\Users\\eafssep\\AppData\\Local\\Temp\\ipykernel_16964\\3891454289.py:2: UserWarning: You are saving your model as an HDF5 file via `model.save()`. This file format is considered legacy. We recommend using instead the native TF-Keras format, e.g. `model.save('my_model.keras')`.\n",
      "  tf.keras.models.save_model(model, 'tf_mnist_model.h5')\n"
     ]
    }
   ],
   "source": [
    "# save model\n",
    "tf.keras.models.save_model(model, 'tf_mnist_model.h5')"
   ]
  },
  {
   "cell_type": "markdown",
   "id": "d92ff5e4",
   "metadata": {},
   "source": [
    "## Load the TF model "
   ]
  },
  {
   "cell_type": "code",
   "execution_count": 29,
   "id": "c5e1ba60",
   "metadata": {},
   "outputs": [],
   "source": [
    "# load the tf model\n",
    "\n",
    "model = tf.keras.models.load_model('tf_mnist_model.h5')"
   ]
  },
  {
   "cell_type": "markdown",
   "id": "d8df9487",
   "metadata": {},
   "source": [
    "## Quantization Aware Training"
   ]
  },
  {
   "cell_type": "code",
   "execution_count": 17,
   "id": "c94801c4",
   "metadata": {},
   "outputs": [],
   "source": [
    "# ! pip install -q tensorflow-model-optimization"
   ]
  },
  {
   "cell_type": "code",
   "execution_count": 30,
   "id": "349cb6bd",
   "metadata": {},
   "outputs": [
    {
     "name": "stdout",
     "output_type": "stream",
     "text": [
      "Model: \"sequential_1\"\n",
      "_________________________________________________________________\n",
      " Layer (type)                Output Shape              Param #   \n",
      "=================================================================\n",
      " quantize_layer_2 (Quantize  (None, 28, 28)            3         \n",
      " Layer)                                                          \n",
      "                                                                 \n",
      " quant_flatten_1 (QuantizeW  (None, 784)               1         \n",
      " rapperV2)                                                       \n",
      "                                                                 \n",
      " quant_dense_2 (QuantizeWra  (None, 128)               100485    \n",
      " pperV2)                                                         \n",
      "                                                                 \n",
      " quant_dense_3 (QuantizeWra  (None, 10)                1295      \n",
      " pperV2)                                                         \n",
      "                                                                 \n",
      "=================================================================\n",
      "Total params: 101784 (397.59 KB)\n",
      "Trainable params: 101770 (397.54 KB)\n",
      "Non-trainable params: 14 (56.00 Byte)\n",
      "_________________________________________________________________\n"
     ]
    }
   ],
   "source": [
    "\n",
    "\n",
    "quantize_model = tfmot.quantization.keras.quantize_model\n",
    "\n",
    "# q_aware stands for for quantization aware.\n",
    "q_aware_model = quantize_model(model)\n",
    "\n",
    "#`quantize_model` requires a recompile.\n",
    "q_aware_model.compile(optimizer=optimizer, \n",
    "                      loss=tf.keras.losses.SparseCategoricalCrossentropy(from_logits=True), \n",
    "                      metrics=[tf.keras.metrics.SparseCategoricalAccuracy()])\n",
    "    \n",
    "\n",
    "q_aware_model.summary()"
   ]
  },
  {
   "cell_type": "markdown",
   "id": "24b0e484",
   "metadata": {},
   "source": [
    "## Training QAT Model"
   ]
  },
  {
   "cell_type": "code",
   "execution_count": 31,
   "id": "60984dcb",
   "metadata": {},
   "outputs": [
    {
     "name": "stdout",
     "output_type": "stream",
     "text": [
      "Epoch 1/6\n",
      "469/469 [==============================] - 2s 3ms/step - loss: 0.0762 - sparse_categorical_accuracy: 0.9761 - val_loss: 0.0809 - val_sparse_categorical_accuracy: 0.9759\n",
      "Epoch 2/6\n",
      "469/469 [==============================] - 1s 2ms/step - loss: 0.0408 - sparse_categorical_accuracy: 0.9881 - val_loss: 0.0695 - val_sparse_categorical_accuracy: 0.9773\n",
      "Epoch 3/6\n",
      "469/469 [==============================] - 1s 3ms/step - loss: 0.0326 - sparse_categorical_accuracy: 0.9908 - val_loss: 0.0667 - val_sparse_categorical_accuracy: 0.9795\n",
      "Epoch 4/6\n",
      "469/469 [==============================] - 1s 3ms/step - loss: 0.0257 - sparse_categorical_accuracy: 0.9929 - val_loss: 0.0694 - val_sparse_categorical_accuracy: 0.9789\n",
      "Epoch 5/6\n",
      "469/469 [==============================] - 1s 2ms/step - loss: 0.0212 - sparse_categorical_accuracy: 0.9946 - val_loss: 0.0678 - val_sparse_categorical_accuracy: 0.9794\n",
      "Epoch 6/6\n",
      "469/469 [==============================] - 1s 3ms/step - loss: 0.0178 - sparse_categorical_accuracy: 0.9958 - val_loss: 0.0677 - val_sparse_categorical_accuracy: 0.9791\n"
     ]
    }
   ],
   "source": [
    "# early stopping callback\n",
    "early_stopping = tf.keras.callbacks.EarlyStopping(patience=10, restore_best_weights=True)\n",
    "\n",
    "history_q_aware = q_aware_model.fit(\n",
    "                                    ds_train,\n",
    "                                    epochs=6,\n",
    "                                    validation_data=ds_test,\n",
    "                                    )\n",
    "                           "
   ]
  },
  {
   "cell_type": "markdown",
   "id": "828d9bbf",
   "metadata": {},
   "source": [
    "## TFLite Conversion"
   ]
  },
  {
   "cell_type": "code",
   "execution_count": 48,
   "id": "a0eeb649",
   "metadata": {},
   "outputs": [
    {
     "name": "stdout",
     "output_type": "stream",
     "text": [
      "INFO:tensorflow:Assets written to: saved_model/quant_aware\\assets\n"
     ]
    },
    {
     "name": "stderr",
     "output_type": "stream",
     "text": [
      "INFO:tensorflow:Assets written to: saved_model/quant_aware\\assets\n"
     ]
    }
   ],
   "source": [
    "# choose the type of conversion\n",
    "\n",
    "# no quantization\n",
    "no_quant = False\n",
    "# full quantization\n",
    "full_quant = False\n",
    "# Dynamic Range Quantization\n",
    "DRQ = False\n",
    "# float16 quantization\n",
    "float16_quant = False\n",
    "# 16x4 quantization\n",
    "quant_16x8 = False\n",
    "# quantization aware training\n",
    "quant_aware = True\n",
    "\n",
    "\n",
    "if no_quant:\n",
    "  export_dir = 'saved_model/no_quant'\n",
    "  tflite_model_file = 'model.tflite'\n",
    "  input_type = 'float32'\n",
    "elif DRQ:\n",
    "  export_dir = 'saved_model/DRQ'\n",
    "  tflite_model_file = 'model_DRQ.tflite'\n",
    "  input_type = 'float32'\n",
    "elif float16_quant:\n",
    "  export_dir = 'saved_model/float16_quant'\n",
    "  tflite_model_file = 'model_float16_quant.tflite'\n",
    "  input_type = 'float32'\n",
    "elif full_quant:\n",
    "  export_dir = 'saved_model/full_quant'\n",
    "  tflite_model_file = 'model_full_quant.tflite'\n",
    "  input_type = 'int8'\n",
    "elif quant_16x8:\n",
    "  export_dir = 'saved_model/quant_16x8'\n",
    "  tflite_model_file = 'model_quant_16x8.tflite'\n",
    "  input_type = 'int16'\n",
    "elif quant_aware:\n",
    "  export_dir = 'saved_model/quant_aware'\n",
    "  tflite_model_file = 'model_quant_aware.tflite'\n",
    "  input_type = 'int8'\n",
    "\n",
    "\n",
    "# # representative dataset\n",
    "# def representative_data():\n",
    "#   for input_value in tf.data.Dataset.from_tensor_slices(X_test).batch(1).take(100):\n",
    "#     input_value = tf.cast(input_value, tf.float32)\n",
    "#     # Model has only one input so each data point has one element.\n",
    "#     yield [input_value]\n",
    "\n",
    "def representative_data():\n",
    "  for image_batch, labels_batch in ds_test.take(1):\n",
    "    yield [image_batch]\n",
    "\n",
    "tf.saved_model.save(model, export_dir)\n",
    "\n",
    "# Convert the model\n",
    "converter = tf.lite.TFLiteConverter.from_saved_model(export_dir) # path to the SavedModel directory\n",
    "\n",
    "# Add optimization (Dynamic range quantization)\n",
    "if DRQ: converter.optimizations = [tf.lite.Optimize.DEFAULT]\n",
    "\n",
    "if float16_quant:\n",
    "   converter.optimizations = [tf.lite.Optimize.DEFAULT]\n",
    "   converter.target_spec.supported_types = [tf.float16]\n",
    "   \n",
    "  \n",
    "if full_quant:\n",
    "  # Full integer quantization for all ops including the input and output\n",
    "  converter.optimizations = [tf.lite.Optimize.DEFAULT]\n",
    "  converter.representative_dataset = representative_data\n",
    "  converter.target_spec.supported_ops = [tf.lite.OpsSet.TFLITE_BUILTINS_INT8]\n",
    "  converter.inference_input_type = tf.int8  \n",
    "  converter.inference_output_type = tf.int8 \n",
    "\n",
    "\n",
    "if quant_16x8:\n",
    "  # 16x8 quantization\n",
    "  converter.optimizations = [tf.lite.Optimize.DEFAULT]\n",
    "  converter.target_spec.supported_ops = [tf.lite.OpsSet.EXPERIMENTAL_TFLITE_BUILTINS_ACTIVATIONS_INT16_WEIGHTS_INT8]\n",
    "  converter.representative_dataset = representative_data\n",
    "  converter.inference_input_type = tf.int16  \n",
    "  converter.inference_output_type = tf.int16 \n",
    "\n",
    "if quant_aware:\n",
    "  # quantization aware training\n",
    "  converter.optimizations = [tf.lite.Optimize.DEFAULT]\n",
    "  converter.representative_dataset = representative_data\n",
    "  converter.inference_input_type = tf.int8  \n",
    "  converter.inference_output_type = tf.int8 \n",
    "\n",
    "tflite_model = converter.convert()\n",
    "\n",
    "# Save the model.\n",
    "with open(tflite_model_file, 'wb') as f:\n",
    "  f.write(tflite_model)\n",
    "\n",
    "\n",
    "# print(help(tf.lite.TFLiteConverter))\n"
   ]
  },
  {
   "cell_type": "markdown",
   "id": "51682357",
   "metadata": {},
   "source": [
    "## TFLite Interpreter"
   ]
  },
  {
   "cell_type": "code",
   "execution_count": 33,
   "id": "91c45c68",
   "metadata": {},
   "outputs": [
    {
     "name": "stdout",
     "output_type": "stream",
     "text": [
      "<class 'numpy.int8'>\n",
      "<class 'numpy.int8'>\n"
     ]
    }
   ],
   "source": [
    "\n",
    "interpreter = tf.lite.Interpreter(model_path=tflite_model_file)\n",
    "interpreter.allocate_tensors()  # Needed before execution!\n",
    "\n",
    "output_details = interpreter.get_output_details()[0]  # Model has single output.\n",
    "input_details = interpreter.get_input_details()[0]  # Model has single input.\n",
    "print(input_details.get('dtype'))\n",
    "print(output_details.get('dtype'))\n"
   ]
  },
  {
   "cell_type": "code",
   "execution_count": 45,
   "id": "b056ca07",
   "metadata": {},
   "outputs": [
    {
     "data": {
      "text/plain": [
       "{'name': 'serving_default_flatten_1_input:0',\n",
       " 'index': 0,\n",
       " 'shape': array([ 1, 28, 28]),\n",
       " 'shape_signature': array([-1, 28, 28]),\n",
       " 'dtype': numpy.int8,\n",
       " 'quantization': (0.003921568859368563, -128),\n",
       " 'quantization_parameters': {'scales': array([0.00392157], dtype=float32),\n",
       "  'zero_points': array([-128]),\n",
       "  'quantized_dimension': 0},\n",
       " 'sparsity_parameters': {}}"
      ]
     },
     "execution_count": 45,
     "metadata": {},
     "output_type": "execute_result"
    }
   ],
   "source": [
    "input_details"
   ]
  },
  {
   "cell_type": "markdown",
   "id": "cfcb23f6",
   "metadata": {},
   "source": [
    "## TFLite Prediction"
   ]
  },
  {
   "cell_type": "code",
   "execution_count": 52,
   "id": "c97f86e0",
   "metadata": {},
   "outputs": [
    {
     "name": "stderr",
     "output_type": "stream",
     "text": [
      "C:\\Users\\eafssep\\AppData\\Local\\Temp\\ipykernel_16964\\1915932834.py:18: DeprecationWarning: Conversion of an array with ndim > 0 to a scalar is deprecated, and will error in future. Ensure you extract a single element from your array before performing this operation. (Deprecated NumPy 1.25.)\n",
      "  y_pred[i] = np.argmax(prediction, axis = 1)\n"
     ]
    }
   ],
   "source": [
    "pred_list = []\n",
    "# np.zeros(ds_test.shape)\n",
    "for X_test, y_test in ds_test.take(1):\n",
    "    y_pred = np.zeros(y_test.shape)\n",
    "    for i in range (len(X_test)):\n",
    "        X_test_input = np.reshape(X_test[i], (1, 28, 28))\n",
    "        # Check if the input type is quantized, then rescale input data to int\n",
    "        if input_details['dtype'] == np.int8 or input_details['dtype'] == np.int16:\n",
    "            input_scale, input_zero_point = input_details[\"quantization\"]\n",
    "            X_test_input = X_test_input / input_scale + input_zero_point\n",
    "            X_test_input = np.array(X_test_input, dtype=input_details[\"dtype\"])\n",
    "\n",
    "            interpreter.set_tensor(input_details['index'], X_test_input)\n",
    "            interpreter.invoke()\n",
    "            prediction = interpreter.get_tensor(output_details['index'])\n",
    "            # keeping all predictions in a list\n",
    "            pred_list.append(prediction)\n",
    "            y_pred[i] = np.argmax(prediction, axis = 1)         "
   ]
  },
  {
   "cell_type": "markdown",
   "id": "a3bd7d0c",
   "metadata": {},
   "source": [
    "## TFLite Evaluation"
   ]
  },
  {
   "cell_type": "code",
   "execution_count": 54,
   "id": "8d27bc3e",
   "metadata": {},
   "outputs": [
    {
     "name": "stdout",
     "output_type": "stream",
     "text": [
      "Accuracy is: 97.66\n",
      "F1 score is: 97.4\n",
      "Recall score is: 97.75\n",
      "Precision score is: 97.35\n"
     ]
    }
   ],
   "source": [
    "print('Accuracy is:' , round(accuracy_score(y_test, y_pred)*100, 2))\n",
    "print('F1 score is:' , round(f1_score(y_test, y_pred, average = 'macro')*100, 2))\n",
    "print('Recall score is:' , round(recall_score(y_test, y_pred, average = 'macro')*100, 2))\n",
    "print('Precision score is:' , round(precision_score(y_test, y_pred, average = 'macro')*100, 2))"
   ]
  },
  {
   "cell_type": "code",
   "execution_count": null,
   "id": "6a35142c",
   "metadata": {},
   "outputs": [],
   "source": []
  }
 ],
 "metadata": {
  "kernelspec": {
   "display_name": ".venv",
   "language": "python",
   "name": "python3"
  },
  "language_info": {
   "codemirror_mode": {
    "name": "ipython",
    "version": 3
   },
   "file_extension": ".py",
   "mimetype": "text/x-python",
   "name": "python",
   "nbconvert_exporter": "python",
   "pygments_lexer": "ipython3",
   "version": "3.12.3"
  }
 },
 "nbformat": 4,
 "nbformat_minor": 5
}
